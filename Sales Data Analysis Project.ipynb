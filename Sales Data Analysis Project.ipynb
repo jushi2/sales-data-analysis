{
 "cells": [
  {
   "cell_type": "markdown",
   "id": "15da54b3-5b61-4058-be8d-62cb139b9360",
   "metadata": {},
   "source": [
    "# 🛒 Sales Data Analysis Project\n",
    "\n",
    "Welcome to the Sales Analysis project using **Pandas** and **NumPy**.  \n",
    "In this project, we will clean, analyze, and extract insights from sales data.  \n",
    "We'll also convert data to NumPy arrays, compute revenues, identify top performers, and more!\n",
    "\n",
    "---\n",
    "\n",
    "### 📊 What You Will Learn:\n",
    "- Data cleaning using Pandas\n",
    "- NumPy array manipulation\n",
    "- Grouping and aggregation\n",
    "- Revenue and performance analysis\n",
    "- Exporting results to CSV\n"
   ]
  },
  {
   "cell_type": "markdown",
   "id": "fd85f749-fe54-4674-949a-fb2af12f9a78",
   "metadata": {},
   "source": [
    "Import Libraries"
   ]
  },
  {
   "cell_type": "code",
   "execution_count": null,
   "id": "d5097fd3-3412-47b5-b208-9a435a1d5521",
   "metadata": {},
   "outputs": [],
   "source": [
    "import pandas as pd\n",
    "import numpy as np"
   ]
  },
  {
   "cell_type": "markdown",
   "id": "1d04863a-a4cb-4de6-bc2d-bdd3bc5c82aa",
   "metadata": {},
   "source": [
    "Load the Dataset "
   ]
  },
  {
   "cell_type": "code",
   "execution_count": null,
   "id": "5fcf7e1b-fcde-4b5f-af31-96fc09236c74",
   "metadata": {},
   "outputs": [],
   "source": [
    "df = pd.read_csv(\"sales_data.csv\") df.head()"
   ]
  },
  {
   "cell_type": "markdown",
   "id": "f52db33a-39fb-4d57-82be-9ec3e3e6bb98",
   "metadata": {},
   "source": [
    "Data Cleaning"
   ]
  },
  {
   "cell_type": "code",
   "execution_count": null,
   "id": "4f255a4e-2004-428f-a662-758d0977cb53",
   "metadata": {},
   "outputs": [],
   "source": [
    "# Drop rows with missing Product or Category\n",
    "df = df.dropna(subset=[\"Product\", \"Category\"])\n",
    "\n",
    "# Fill missing Price with mean\n",
    "df[\"Price\"] = df[\"Price\"].fillna(df[\"Price\"].mean())\n",
    "\n",
    "# Fill missing Quantity with 0\n",
    "df[\"Quantity\"] = df[\"Quantity\"].fillna(0)"
   ]
  },
  {
   "cell_type": "markdown",
   "id": "dc582b4a-3b77-48ef-b0da-60f5ad6bc08c",
   "metadata": {},
   "source": [
    " Convert Pandas DataFrame to NumPy Array"
   ]
  },
  {
   "cell_type": "code",
   "execution_count": null,
   "id": "646e5e6f-5533-4b87-b5fe-34ea46d50df0",
   "metadata": {},
   "outputs": [],
   "source": [
    "np_array = df.to_numpy()\n",
    "print(\"Converted DataFrame to NumPy array:\")\n",
    "print(np_array)\n"
   ]
  },
  {
   "cell_type": "markdown",
   "id": "70e0600d-9cbb-4c9d-b856-289994eb40ec",
   "metadata": {},
   "source": [
    " Calculate Total Revenue"
   ]
  },
  {
   "cell_type": "code",
   "execution_count": null,
   "id": "bc3561a5-5fdc-4564-8db3-12a4b911dec6",
   "metadata": {},
   "outputs": [],
   "source": [
    "df[\"Revenue\"] = df[\"Price\"] * df[\"Quantity\"]\n",
    "df.head()"
   ]
  },
  {
   "cell_type": "markdown",
   "id": "55d5abc9-67a5-48ab-9c12-3b152d67b79c",
   "metadata": {},
   "source": [
    "Revenue Analysis by Product and Category "
   ]
  },
  {
   "cell_type": "code",
   "execution_count": null,
   "id": "d6630bed-2122-4c21-8764-71867baae6fe",
   "metadata": {},
   "outputs": [],
   "source": [
    "# Revenue per product\n",
    "print(\"Total Revenue by Product:\")\n",
    "print(df.groupby(\"Product\")[\"Revenue\"].sum())\n",
    "\n",
    "# Revenue per category\n",
    "print(\"\\nTotal Revenue by Category:\")\n",
    "print(df.groupby(\"Category\")[\"Revenue\"].sum())"
   ]
  },
  {
   "cell_type": "markdown",
   "id": "ff6724d3-67e7-4238-a545-f3958c1aeaaa",
   "metadata": {},
   "source": [
    "Above-Average Price Products"
   ]
  },
  {
   "cell_type": "code",
   "execution_count": null,
   "id": "617c14dc-0e5a-436f-b232-ec90c49a9847",
   "metadata": {},
   "outputs": [],
   "source": [
    "average_price = df[\"Price\"].mean()\n",
    "print(\"Average Price:\", average_price)\n",
    "\n",
    "above_avg_products = df[df[\"Price\"] > average_price][[\"Product\", \"Price\"]]\n",
    "print(\"\\nProducts with Above-Average Prices:\")\n",
    "print(above_avg_products)\n"
   ]
  },
  {
   "cell_type": "markdown",
   "id": "a232eec6-e6d6-4ecc-a521-2df4a24f0957",
   "metadata": {},
   "source": [
    " Top 3 Performing Products by Quantity"
   ]
  },
  {
   "cell_type": "code",
   "execution_count": null,
   "id": "33e48499-f2a2-4518-9803-5d30cafb7a26",
   "metadata": {},
   "outputs": [],
   "source": [
    "product_performance = df.groupby(\"Product\")[\"Quantity\"].sum()\n",
    "top_products = product_performance.sort_values(ascending=False).head(3)\n",
    "print(\"Top 3 Performing Products:\")\n",
    "print(top_products)"
   ]
  },
  {
   "cell_type": "markdown",
   "id": "180a390c-df58-4e5b-b558-8db36cc0c6d0",
   "metadata": {},
   "source": [
    "Export Final Product Revenue to CSV"
   ]
  },
  {
   "cell_type": "code",
   "execution_count": null,
   "id": "609690ff-ef50-4fcb-b7e2-e3c999078ff0",
   "metadata": {},
   "outputs": [],
   "source": [
    "df.groupby(\"Product\")[\"Revenue\"].sum().to_csv(\"product_revenue.csv\")\n",
    "print(\"Product revenue data exported successfully.\")"
   ]
  },
  {
   "cell_type": "markdown",
   "id": "b254e4c5-4e85-4a53-bd82-3c2299920732",
   "metadata": {},
   "source": [
    "Visualization"
   ]
  },
  {
   "cell_type": "code",
   "execution_count": null,
   "id": "5b02c522-0865-471b-8da4-4b44fd92f0eb",
   "metadata": {},
   "outputs": [],
   "source": [
    "import matplotlib.pyplot as plt\n",
    "\n",
    "# Bar chart of revenue by category\n",
    "df.groupby(\"Category\")[\"Revenue\"].sum().plot(kind=\"bar\", title=\"Revenue by Category\", ylabel=\"Revenue\", xlabel=\"Category\", colormap='viridis')\n",
    "plt.grid(True)\n",
    "plt.tight_layout()\n",
    "plt.show()"
   ]
  }
 ],
 "metadata": {
  "kernelspec": {
   "display_name": "Python 3 (ipykernel)",
   "language": "python",
   "name": "python3"
  },
  "language_info": {
   "codemirror_mode": {
    "name": "ipython",
    "version": 3
   },
   "file_extension": ".py",
   "mimetype": "text/x-python",
   "name": "python",
   "nbconvert_exporter": "python",
   "pygments_lexer": "ipython3",
   "version": "3.13.3"
  }
 },
 "nbformat": 4,
 "nbformat_minor": 5
}
